{
  "nbformat": 4,
  "nbformat_minor": 0,
  "metadata": {
    "colab": {
      "name": "PCA - Diabetes .ipynb",
      "provenance": [],
      "collapsed_sections": []
    },
    "kernelspec": {
      "display_name": "Python 3",
      "language": "python",
      "name": "python3"
    }
  },
  "cells": [
    {
      "cell_type": "code",
      "metadata": {
        "id": "6JE-5rGkuIIy",
        "colab_type": "code",
        "colab": {}
      },
      "source": [
        "# Principal Component Analysis (PCA) - Dados sobre Diabetes"
      ],
      "execution_count": 0,
      "outputs": []
    },
    {
      "cell_type": "code",
      "metadata": {
        "id": "mQ69wGmOuII7",
        "colab_type": "code",
        "colab": {}
      },
      "source": [
        "import numpy as np\n",
        "import matplotlib.pyplot as plt\n",
        "%matplotlib inline"
      ],
      "execution_count": 0,
      "outputs": []
    },
    {
      "cell_type": "code",
      "metadata": {
        "id": "ui2oVoRpuIJA",
        "colab_type": "code",
        "colab": {}
      },
      "source": [
        "# Para a análise PCA, utilizou-se a seguinte metodologia: (i) subtração da média dos dados (ii) cálculo da matrix de \n",
        "# covariância, (iii) cálculo dos eigenvalues e eigenvectors (autovalores e autovetores) da matrix de covariância,\n",
        "# (iv) seleção dos autovalores (e respectivos autovetores) mais relevantes (componentes, (v) redução da dimensionalidade\n",
        "# com base nos componentes (autovalores/autovetores) \"mais signigificantes.\""
      ],
      "execution_count": 0,
      "outputs": []
    },
    {
      "cell_type": "code",
      "metadata": {
        "id": "HckEye1AuIJF",
        "colab_type": "code",
        "colab": {}
      },
      "source": [
        "# Foi realizada a extração dos itens (Pregnancies,Glucose,BloodPressure,SkinThickness,Insulin,BMI,DiabetesPedigreeFunction\n",
        "# ,Age) de diabetes.csv para a \"diab\"\n",
        "\n",
        "diab = np.genfromtxt(\"diabetes.csv\",delimiter=\",\", skip_header=1, usecols=(0,1,2,3,4,5,6,7))"
      ],
      "execution_count": 0,
      "outputs": []
    },
    {
      "cell_type": "code",
      "metadata": {
        "id": "2p1Y3JaZuIJM",
        "colab_type": "code",
        "outputId": "b0159844-5df9-46ef-d9d5-f08f95dc8e9c",
        "colab": {
          "base_uri": "https://localhost:8080/",
          "height": 136
        }
      },
      "source": [
        "# As colunas de \"diab\" representam (Pregnancies,Glucose,BloodPressure,SkinThickness,Insulin,BMI,DiabetesPedigreeFunction\n",
        "# ,Age) respectivamente.\n",
        "\n",
        "diab"
      ],
      "execution_count": 0,
      "outputs": [
        {
          "output_type": "execute_result",
          "data": {
            "text/plain": [
              "array([[  6. , 148. ,  72. , ...,  33.6, 627. ,  50. ],\n",
              "       [  1. ,  85. ,  66. , ...,  26.6, 351. ,  31. ],\n",
              "       [  8. , 183. ,  64. , ...,  23.3, 672. ,  32. ],\n",
              "       ...,\n",
              "       [  5. , 121. ,  72. , ...,  26.2, 245. ,  30. ],\n",
              "       [  1. , 126. ,  60. , ...,  30.1, 349. ,  47. ],\n",
              "       [  1. ,  93. ,  70. , ...,  30.4, 315. ,  23. ]])"
            ]
          },
          "metadata": {
            "tags": []
          },
          "execution_count": 13
        }
      ]
    },
    {
      "cell_type": "code",
      "metadata": {
        "id": "oH76P-1TuIJd",
        "colab_type": "code",
        "colab": {}
      },
      "source": [
        "# Ajusta-se os dados de \"diab\" por meio da substração das respectivas médias para \"centralizar\" os dados.\n",
        "\n",
        "diab_ajust = diab - diab.mean(axis=0)\n"
      ],
      "execution_count": 0,
      "outputs": []
    },
    {
      "cell_type": "code",
      "metadata": {
        "id": "WhJyA55euIJh",
        "colab_type": "code",
        "outputId": "eb821b81-b918-4240-ac93-b12b313dfe4b",
        "colab": {
          "base_uri": "https://localhost:8080/",
          "height": 238
        }
      },
      "source": [
        "diab_ajust"
      ],
      "execution_count": 0,
      "outputs": [
        {
          "output_type": "execute_result",
          "data": {
            "text/plain": [
              "array([[ 2.15494792e+00,  2.71054688e+01,  2.89453125e+00, ...,\n",
              "         1.60742188e+00,  1.98764909e+02,  1.67591146e+01],\n",
              "       [-2.84505208e+00, -3.58945312e+01, -3.10546875e+00, ...,\n",
              "        -5.39257812e+00, -7.72350911e+01, -2.24088542e+00],\n",
              "       [ 4.15494792e+00,  6.21054688e+01, -5.10546875e+00, ...,\n",
              "        -8.69257812e+00,  2.43764909e+02, -1.24088542e+00],\n",
              "       ...,\n",
              "       [ 1.15494792e+00,  1.05468750e-01,  2.89453125e+00, ...,\n",
              "        -5.79257812e+00, -1.83235091e+02, -3.24088542e+00],\n",
              "       [-2.84505208e+00,  5.10546875e+00, -9.10546875e+00, ...,\n",
              "        -1.89257812e+00, -7.92350911e+01,  1.37591146e+01],\n",
              "       [-2.84505208e+00, -2.78945312e+01,  8.94531250e-01, ...,\n",
              "        -1.59257812e+00, -1.13235091e+02, -1.02408854e+01]])"
            ]
          },
          "metadata": {
            "tags": []
          },
          "execution_count": 15
        }
      ]
    },
    {
      "cell_type": "code",
      "metadata": {
        "id": "Nfayv-KPuIJo",
        "colab_type": "code",
        "colab": {}
      },
      "source": [
        "# Calcula-se a matriz de covariância cov(x,y) = somatório [(x - média de x)(y - média de y)]/(n-1), onde:\n",
        "# x e y, as variáveis para as quais será calculada a covariância; n é igual ao número de observações.\n",
        "\n",
        "# part_cov é utilizada para calcular o desvio das variáveis sobre as respectivas médias (x - média de x) para todas as\n",
        "# observações dos respectivos parâmetros.\n",
        "\n",
        "parte_cov = diab_ajust - diab_ajust.mean(axis=0) \n",
        "\n",
        "# a produto de part_cov(transposto) por parte_cov permite a realização de somatório [(x - média de x)(y - média de y)]\n",
        "# por meio de cálculo matricial.\n",
        "\n",
        "covar = parte_cov.T.dot(parte_cov) / (len(diab_ajust)-1)"
      ],
      "execution_count": 0,
      "outputs": []
    },
    {
      "cell_type": "code",
      "metadata": {
        "id": "zM1qnwuduIJv",
        "colab_type": "code",
        "outputId": "bca8355c-deb7-4a92-bf71-73e8ac4db72b",
        "colab": {
          "base_uri": "https://localhost:8080/",
          "height": 425
        }
      },
      "source": [
        "covar"
      ],
      "execution_count": 0,
      "outputs": [
        {
          "output_type": "execute_result",
          "data": {
            "text/plain": [
              "array([[ 1.13540563e+01,  1.39471307e+01,  9.21453818e+00,\n",
              "        -4.39004101e+00, -2.85552307e+01,  4.69774181e-01,\n",
              "        -3.00650250e+01,  2.15706198e+01],\n",
              "       [ 1.39471307e+01,  1.02224831e+03,  9.44309556e+01,\n",
              "         2.92391827e+01,  1.22093580e+03,  5.57269867e+01,\n",
              "         1.44964084e+03,  9.90828054e+01],\n",
              "       [ 9.21453818e+00,  9.44309556e+01,  3.74647271e+02,\n",
              "         6.40293962e+01,  1.98378412e+02,  4.30046951e+01,\n",
              "         3.38980988e+02,  5.45234528e+01],\n",
              "       [-4.39004101e+00,  2.92391827e+01,  6.40293962e+01,\n",
              "         2.54473245e+02,  8.02979941e+02,  4.93738694e+01,\n",
              "         8.37938947e+02, -2.13810232e+01],\n",
              "       [-2.85552307e+01,  1.22093580e+03,  1.98378412e+02,\n",
              "         8.02979941e+02,  1.32811801e+04,  1.79775172e+02,\n",
              "         7.26731738e+03, -5.71432903e+01],\n",
              "       [ 4.69774181e-01,  5.57269867e+01,  4.30046951e+01,\n",
              "         4.93738694e+01,  1.79775172e+02,  6.21599840e+01,\n",
              "         2.78041722e+02,  3.36032992e+00],\n",
              "       [-3.00650250e+01,  1.44964084e+03,  3.38980988e+02,\n",
              "         8.37938947e+02,  7.26731738e+03,  2.78041722e+02,\n",
              "         1.15930481e+05,  7.19540393e+01],\n",
              "       [ 2.15706198e+01,  9.90828054e+01,  5.45234528e+01,\n",
              "        -2.13810232e+01, -5.71432903e+01,  3.36032992e+00,\n",
              "         7.19540393e+01,  1.38303046e+02]])"
            ]
          },
          "metadata": {
            "tags": []
          },
          "execution_count": 17
        }
      ]
    },
    {
      "cell_type": "code",
      "metadata": {
        "id": "iyZP_rT2uIJ1",
        "colab_type": "code",
        "colab": {}
      },
      "source": [
        "# Uma vez obtida a matriz de covariância (covar) será necessário extrair os eigenvalues e eigenvectors da mesma.\n",
        "# No entando, não conseguimos implementar, em python, um algoritmo para a obtenção do mesmo.\n",
        "# Não obstante, encontramos em http://physik.uni-graz.at/~pep/Lehre/CP2/EX07/Jacobi.py um algoritm nesse sentido.\n",
        "# Optamos por não \"copiar\" o algoritmo acima, e utilizar a ferramenta específica do numpy, apesar das instruções para\n",
        "# demonstrar todos os cálculos."
      ],
      "execution_count": 0,
      "outputs": []
    },
    {
      "cell_type": "code",
      "metadata": {
        "id": "tKL5wvaUuIJ6",
        "colab_type": "code",
        "colab": {}
      },
      "source": [
        "e_val, e_vec = np.linalg.eig(covar)"
      ],
      "execution_count": 0,
      "outputs": []
    },
    {
      "cell_type": "code",
      "metadata": {
        "id": "PeavsFVxuIKC",
        "colab_type": "code",
        "outputId": "175f67dc-1eb1-4836-a73c-04fc3f8e0271",
        "colab": {
          "base_uri": "https://localhost:8080/",
          "height": 51
        }
      },
      "source": [
        "e_val"
      ],
      "execution_count": 0,
      "outputs": [
        {
          "output_type": "execute_result",
          "data": {
            "text/plain": [
              "array([1.16471480e+05, 1.29225394e+04, 9.27773222e+02, 3.89993454e+02,\n",
              "       1.96856402e+02, 7.75152920e+00, 1.12632950e+02, 4.58206510e+01])"
            ]
          },
          "metadata": {
            "tags": []
          },
          "execution_count": 20
        }
      ]
    },
    {
      "cell_type": "code",
      "metadata": {
        "id": "RwG8L_68uIKI",
        "colab_type": "code",
        "outputId": "b86ece22-91a5-4e8b-b1cc-91eac17e8c21",
        "colab": {
          "base_uri": "https://localhost:8080/",
          "height": 425
        }
      },
      "source": [
        "e_vec"
      ],
      "execution_count": 0,
      "outputs": [
        {
          "output_type": "execute_result",
          "data": {
            "text/plain": [
              "array([[-2.73100093e-04,  1.93994861e-03,  2.28673088e-02,\n",
              "         2.28437416e-02,  4.87927285e-02,  9.86677164e-01,\n",
              "        -1.51692930e-01,  5.30190605e-03],\n",
              "       [ 1.32750975e-02, -9.32259054e-02,  9.72661103e-01,\n",
              "        -1.40723957e-01, -1.23085945e-01,  6.30092224e-04,\n",
              "         8.69613556e-02, -5.04680581e-02],\n",
              "       [ 3.04881858e-03, -1.47546782e-02,  1.40124860e-01,\n",
              "         9.24284698e-01,  2.57206172e-01, -1.21885759e-03,\n",
              "         2.32277845e-01, -7.56725011e-02],\n",
              "       [ 7.68416830e-03, -5.84229399e-02, -6.18201680e-02,\n",
              "         3.02733608e-01, -8.84979920e-01, -9.55611704e-04,\n",
              "        -2.63074485e-01, -2.20589633e-01],\n",
              "       [ 7.04692392e-02, -9.91127769e-01, -9.03835775e-02,\n",
              "        -1.96817678e-02,  6.40536869e-02,  1.32749325e-03,\n",
              "         6.39227745e-05,  6.21506650e-03],\n",
              "       [ 2.50182938e-03, -1.29792435e-02,  4.56858800e-02,\n",
              "         1.31511878e-01, -1.92835112e-01, -3.12490550e-03,\n",
              "        -2.18942173e-02,  9.70962514e-01],\n",
              "       [ 9.97388004e-01,  7.17935837e-02, -6.70386457e-03,\n",
              "        -2.29309618e-03,  3.46124420e-03,  2.83719740e-04,\n",
              "         7.15570678e-04, -2.79747154e-04],\n",
              "       [ 5.93631499e-04,  4.14635276e-03,  1.40176400e-01,\n",
              "         1.26637622e-01,  3.03025428e-01, -1.62646150e-01,\n",
              "        -9.19666202e-01,  1.52263494e-02]])"
            ]
          },
          "metadata": {
            "tags": []
          },
          "execution_count": 21
        }
      ]
    },
    {
      "cell_type": "code",
      "metadata": {
        "id": "5Oc_9jTDuIKU",
        "colab_type": "code",
        "colab": {}
      },
      "source": [
        "# Optou-se por utilizar os 4 (quatro) maiores autovalores: 1.16471480e+05, 1.29225394e+04, 9.27773222e+02, 3.89993454e+02\n",
        "# e respectivos autovetores:\n",
        "#\n",
        "#       [-2.73100093e-04,  1.93994861e-03,  2.28673088e-02,\n",
        "#         2.28437416e-02,  4.87927285e-02,  9.86677164e-01,\n",
        "#        -1.51692930e-01,  5.30190605e-03],\n",
        "#       \n",
        "#        [1.32750975e-02, -9.32259054e-02,  9.72661103e-01,\n",
        "#        -1.40723957e-01, -1.23085945e-01,  6.30092224e-04,\n",
        "#         8.69613556e-02, -5.04680581e-02],\n",
        "#       \n",
        "#        [3.04881858e-03, -1.47546782e-02,  1.40124860e-01,\n",
        "#         9.24284698e-01,  2.57206172e-01, -1.21885759e-03,\n",
        "#         2.32277845e-01, -7.56725011e-02],\n",
        "#      \n",
        "#        [7.68416830e-03, -5.84229399e-02, -6.18201680e-02,\n",
        "#         3.02733608e-01, -8.84979920e-01, -9.55611704e-04,\n",
        "#        -2.63074485e-01, -2.20589633e-01],"
      ],
      "execution_count": 0,
      "outputs": []
    },
    {
      "cell_type": "code",
      "metadata": {
        "id": "Ayly7khQuIKa",
        "colab_type": "code",
        "colab": {}
      },
      "source": [
        "# Para a aplicação do PCA aos dodos originais, levando em consideração o critérios dos 4 autovalores mais relevantes,\n",
        "# utilizamos os respectivos autovetores e transpomos os mesmos (pca_transf)\n",
        "\n",
        "pca_transf = np.transpose(e_vec[0:4,:])"
      ],
      "execution_count": 0,
      "outputs": []
    },
    {
      "cell_type": "code",
      "metadata": {
        "id": "i2Cedjz0uIKg",
        "colab_type": "code",
        "outputId": "c2b5f798-b816-46a7-8d0f-01afa6cb5739",
        "colab": {
          "base_uri": "https://localhost:8080/",
          "height": 289
        }
      },
      "source": [
        "pca_transf"
      ],
      "execution_count": 0,
      "outputs": [
        {
          "output_type": "execute_result",
          "data": {
            "text/plain": [
              "array([[-2.73100093e-04,  1.32750975e-02,  3.04881858e-03,\n",
              "         7.68416830e-03],\n",
              "       [ 1.93994861e-03, -9.32259054e-02, -1.47546782e-02,\n",
              "        -5.84229399e-02],\n",
              "       [ 2.28673088e-02,  9.72661103e-01,  1.40124860e-01,\n",
              "        -6.18201680e-02],\n",
              "       [ 2.28437416e-02, -1.40723957e-01,  9.24284698e-01,\n",
              "         3.02733608e-01],\n",
              "       [ 4.87927285e-02, -1.23085945e-01,  2.57206172e-01,\n",
              "        -8.84979920e-01],\n",
              "       [ 9.86677164e-01,  6.30092224e-04, -1.21885759e-03,\n",
              "        -9.55611704e-04],\n",
              "       [-1.51692930e-01,  8.69613556e-02,  2.32277845e-01,\n",
              "        -2.63074485e-01],\n",
              "       [ 5.30190605e-03, -5.04680581e-02, -7.56725011e-02,\n",
              "        -2.20589633e-01]])"
            ]
          },
          "metadata": {
            "tags": []
          },
          "execution_count": 24
        }
      ]
    },
    {
      "cell_type": "code",
      "metadata": {
        "id": "GAcJT0RbuIKo",
        "colab_type": "code",
        "colab": {}
      },
      "source": [
        "# Multiplica-se os dados ajustados pela média \"diab_ajust\" pela tranposta dos autovetores relevantes \"pca_transf\"\n",
        "# no âmbito da PCA para realizar a redução de dimensionalidade, resultando o conjunto de dados \"pca\""
      ],
      "execution_count": 0,
      "outputs": []
    },
    {
      "cell_type": "code",
      "metadata": {
        "id": "VqKICBxluIKu",
        "colab_type": "code",
        "colab": {}
      },
      "source": [
        "pca = diab_ajust.dot(pca_transf)"
      ],
      "execution_count": 0,
      "outputs": []
    },
    {
      "cell_type": "code",
      "metadata": {
        "id": "EEx7ngG8uIK1",
        "colab_type": "code",
        "outputId": "15c32045-4217-4540-f977-8db0c10b1168",
        "colab": {
          "base_uri": "https://localhost:8080/",
          "height": 136
        }
      },
      "source": [
        "pca"
      ],
      "execution_count": 0,
      "outputs": [
        {
          "output_type": "execute_result",
          "data": {
            "text/plain": [
              "array([[-31.92141772,  24.54397952,  37.75426632,  17.26517529],\n",
              "       [  2.54323696,   2.31236151, -30.38026602,  96.2683691 ],\n",
              "       [-49.92092609,  23.2668688 ,  15.60014918,  -2.72326982],\n",
              "       ...,\n",
              "       [ 23.75638749, -17.26367387, -31.34239839,  20.99767347],\n",
              "       [  5.66468893,  -4.24407879, -60.30979493,  82.45804515],\n",
              "       [ 11.86381672,   2.45128078, -35.85048867, 107.39093932]])"
            ]
          },
          "metadata": {
            "tags": []
          },
          "execution_count": 27
        }
      ]
    },
    {
      "cell_type": "code",
      "metadata": {
        "id": "3c-HesxkuIK-",
        "colab_type": "code",
        "colab": {}
      },
      "source": [
        "# Para fins de visualização gerou-se os \"scatter plots\" abaixo em relação a cada par de componentes de \"pca\" gerada\n",
        "# acima."
      ],
      "execution_count": 0,
      "outputs": []
    },
    {
      "cell_type": "code",
      "metadata": {
        "id": "e7la4DI_uILD",
        "colab_type": "code",
        "colab": {}
      },
      "source": [
        "pca1 = pca[:,0]\n",
        "pca2 = pca[:,1]\n",
        "pca3 = pca[:,2]\n",
        "pca4 = pca[:,3]"
      ],
      "execution_count": 0,
      "outputs": []
    },
    {
      "cell_type": "code",
      "metadata": {
        "id": "nwdOKGyZuILH",
        "colab_type": "code",
        "outputId": "1cbffe71-3ec5-471b-fef6-7e20376a6c01",
        "colab": {
          "base_uri": "https://localhost:8080/",
          "height": 284
        }
      },
      "source": [
        "plt.scatter(pca1,pca2)"
      ],
      "execution_count": 0,
      "outputs": [
        {
          "output_type": "execute_result",
          "data": {
            "text/plain": [
              "<matplotlib.collections.PathCollection at 0x7fa5aa29ddd8>"
            ]
          },
          "metadata": {
            "tags": []
          },
          "execution_count": 30
        },
        {
          "output_type": "display_data",
          "data": {
            "image/png": "[encoded data removed]",
            "text/plain": [
              "<Figure size 432x288 with 1 Axes>"
            ]
          },
          "metadata": {
            "tags": []
          }
        }
      ]
    },
    {
      "cell_type": "code",
      "metadata": {
        "id": "XLvJD9K_uILR",
        "colab_type": "code",
        "outputId": "21583936-fd33-4330-9be4-706a43003354",
        "colab": {
          "base_uri": "https://localhost:8080/",
          "height": 282
        }
      },
      "source": [
        "plt.scatter(pca2,pca3)\n"
      ],
      "execution_count": 0,
      "outputs": [
        {
          "output_type": "execute_result",
          "data": {
            "text/plain": [
              "<matplotlib.collections.PathCollection at 0x7fa5a8171e10>"
            ]
          },
          "metadata": {
            "tags": []
          },
          "execution_count": 31
        },
        {
          "output_type": "display_data",
          "data": {
            "image/png": "[encoded data removed]",
            "text/plain": [
              "<Figure size 432x288 with 1 Axes>"
            ]
          },
          "metadata": {
            "tags": []
          }
        }
      ]
    },
    {
      "cell_type": "code",
      "metadata": {
        "id": "mvo6fdmcuILX",
        "colab_type": "code",
        "outputId": "6ecc26ed-78ec-4ab3-9d4c-db70390eef22",
        "colab": {
          "base_uri": "https://localhost:8080/",
          "height": 282
        }
      },
      "source": [
        "plt.scatter(pca1,pca3)"
      ],
      "execution_count": 0,
      "outputs": [
        {
          "output_type": "execute_result",
          "data": {
            "text/plain": [
              "<matplotlib.collections.PathCollection at 0x7fa5aa74b7f0>"
            ]
          },
          "metadata": {
            "tags": []
          },
          "execution_count": 32
        },
        {
          "output_type": "display_data",
          "data": {
            "image/png": "[encoded data removed]",
            "text/plain": [
              "<Figure size 432x288 with 1 Axes>"
            ]
          },
          "metadata": {
            "tags": []
          }
        }
      ]
    },
    {
      "cell_type": "code",
      "metadata": {
        "id": "cc1W6wmtuILd",
        "colab_type": "code",
        "outputId": "686c53f5-9500-41d0-b1cc-35104eec2eaa",
        "colab": {
          "base_uri": "https://localhost:8080/",
          "height": 282
        }
      },
      "source": [
        "plt.scatter(pca1,pca4)"
      ],
      "execution_count": 0,
      "outputs": [
        {
          "output_type": "execute_result",
          "data": {
            "text/plain": [
              "<matplotlib.collections.PathCollection at 0x7fa5a80f1f60>"
            ]
          },
          "metadata": {
            "tags": []
          },
          "execution_count": 33
        },
        {
          "output_type": "display_data",
          "data": {
            "image/png": "[encoded data removed]",
            "text/plain": [
              "<Figure size 432x288 with 1 Axes>"
            ]
          },
          "metadata": {
            "tags": []
          }
        }
      ]
    },
    {
      "cell_type": "code",
      "metadata": {
        "id": "vkx83txIuILm",
        "colab_type": "code",
        "outputId": "2680d7d1-2e3b-46c6-84d6-5018d73697b8",
        "colab": {
          "base_uri": "https://localhost:8080/",
          "height": 282
        }
      },
      "source": [
        "plt.scatter(pca2,pca4)"
      ],
      "execution_count": 0,
      "outputs": [
        {
          "output_type": "execute_result",
          "data": {
            "text/plain": [
              "<matplotlib.collections.PathCollection at 0x7fa5a80d9128>"
            ]
          },
          "metadata": {
            "tags": []
          },
          "execution_count": 34
        },
        {
          "output_type": "display_data",
          "data": {
            "image/png": "[encoded data removed]",
            "text/plain": [
              "<Figure size 432x288 with 1 Axes>"
            ]
          },
          "metadata": {
            "tags": []
          }
        }
      ]
    },
    {
      "cell_type": "code",
      "metadata": {
        "id": "UTtj2lENuILr",
        "colab_type": "code",
        "outputId": "b02b9380-705d-49a5-fb4d-d97e2a0174b6",
        "colab": {
          "base_uri": "https://localhost:8080/",
          "height": 282
        }
      },
      "source": [
        "plt.scatter(pca3,pca4)"
      ],
      "execution_count": 0,
      "outputs": [
        {
          "output_type": "execute_result",
          "data": {
            "text/plain": [
              "<matplotlib.collections.PathCollection at 0x7fa5a8030908>"
            ]
          },
          "metadata": {
            "tags": []
          },
          "execution_count": 35
        },
        {
          "output_type": "display_data",
          "data": {
            "image/png": "[encoded data removed]",
            "text/plain": [
              "<Figure size 432x288 with 1 Axes>"
            ]
          },
          "metadata": {
            "tags": []
          }
        }
      ]
    },
    {
      "cell_type": "code",
      "metadata": {
        "id": "W_UJ7Xs-uILz",
        "colab_type": "code",
        "colab": {}
      },
      "source": [
        "# Abaixo, replicamos o algoritmo extraído de http://physik.uni-graz.at/~pep/Lehre/CP2/EX07/Jacobi.py cujo resultado é\n",
        "# similar à respectiva ferramenta do numpy."
      ],
      "execution_count": 0,
      "outputs": []
    },
    {
      "cell_type": "code",
      "metadata": {
        "id": "JqYYjOgUuIL4",
        "colab_type": "code",
        "colab": {}
      },
      "source": [
        "\n",
        "\n",
        "def Jacobi(A):\n",
        "    n     = A.shape[0]            # matrix size #columns = #lines\n",
        "    maxit = 100                   # maximum number of iterations\n",
        "    eps   = 1.0e-15               # accuracy goal\n",
        "    pi    = np.pi        \n",
        "    info  = 0                     # return flag\n",
        "    ev    = np.zeros(n,float)     # initialize eigenvalues\n",
        "    U     = np.zeros((n,n),float) # initialize eigenvector\n",
        "    for i in range(0,n): U[i,i] = 1.0\n",
        "\n",
        "    for t in range(0,maxit):\n",
        "         s = 0;    # compute sum of off-diagonal elements in A(i,j)\n",
        "         for i in range(0,n): s = s + np.sum(np.abs(A[i,(i+1):n]))\n",
        "         if (s < eps): # diagonal form reached\n",
        "              info = t\n",
        "              for i in range(0,n):ev[i] = A[i,i]\n",
        "              break\n",
        "         else:\n",
        "              limit = s/(n*(n-1)/2.0)       # average value of off-diagonal elements\n",
        "              for i in range(0,n-1):       # loop over lines of matrix\n",
        "                   for j in range(i+1,n):  # loop over columns of matrix\n",
        "                       if (np.abs(A[i,j]) > limit):      # determine (ij) such that |A(i,j)| larger than average \n",
        "                                                         # value of off-diagonal elements\n",
        "                           denom = A[i,i] - A[j,j]       # denominator of Eq. (3.61)\n",
        "                           if (np.abs(denom) < eps): phi = pi/4         # Eq. (3.62)\n",
        "                           else: phi = 0.5*np.arctan(2.0*A[i,j]/denom)  # Eq. (3.61)\n",
        "                           si = np.sin(phi)\n",
        "                           co = np.cos(phi)\n",
        "                           for k in range(i+1,j):\n",
        "                               store  = A[i,k]\n",
        "                               A[i,k] = A[i,k]*co + A[k,j]*si  # Eq. (3.56) \n",
        "                               A[k,j] = A[k,j]*co - store *si  # Eq. (3.57) \n",
        "                           for k in range(j+1,n):\n",
        "                               store  = A[i,k]\n",
        "                               A[i,k] = A[i,k]*co + A[j,k]*si  # Eq. (3.56) \n",
        "                               A[j,k] = A[j,k]*co - store *si  # Eq. (3.57) \n",
        "                           for k in range(0,i):\n",
        "                               store  = A[k,i]\n",
        "                               A[k,i] = A[k,i]*co + A[k,j]*si\n",
        "                               A[k,j] = A[k,j]*co - store *si\n",
        "                           store = A[i,i]\n",
        "                           A[i,i] = A[i,i]*co*co + 2.0*A[i,j]*co*si +A[j,j]*si*si  # Eq. (3.58)\n",
        "                           A[j,j] = A[j,j]*co*co - 2.0*A[i,j]*co*si +store *si*si  # Eq. (3.59)\n",
        "                           A[i,j] = 0.0                                            # Eq. (3.60)\n",
        "                           for k in range(0,n):\n",
        "                                store  = U[k,j]\n",
        "                                U[k,j] = U[k,j]*co - U[k,i]*si  # Eq. (3.66)\n",
        "                                U[k,i] = U[k,i]*co + store *si  # Eq. (3.67)\n",
        "         info = -t # in case no convergence is reached set info to a negative value \"-t\"\n",
        "    return ev,U,t"
      ],
      "execution_count": 0,
      "outputs": []
    },
    {
      "cell_type": "code",
      "metadata": {
        "id": "H8NDsYutuIL8",
        "colab_type": "code",
        "outputId": "d8cce0e4-19df-46f8-ca0b-969e23a7c6ff",
        "colab": {
          "base_uri": "https://localhost:8080/",
          "height": 476
        }
      },
      "source": [
        "Jacobi(covar)"
      ],
      "execution_count": 0,
      "outputs": [
        {
          "output_type": "execute_result",
          "data": {
            "text/plain": [
              "(array([7.75152920e+00, 9.27773222e+02, 3.89993454e+02, 1.96856402e+02,\n",
              "        1.29225394e+04, 4.58206510e+01, 1.16471480e+05, 1.12632950e+02]),\n",
              " array([[ 9.86677164e-01,  2.28673088e-02,  2.28437416e-02,\n",
              "         -4.87927285e-02, -1.93994861e-03,  5.30190605e-03,\n",
              "         -2.73100093e-04,  1.51692930e-01],\n",
              "        [ 6.30092224e-04,  9.72661103e-01, -1.40723957e-01,\n",
              "          1.23085945e-01,  9.32259054e-02, -5.04680581e-02,\n",
              "          1.32750975e-02, -8.69613556e-02],\n",
              "        [-1.21885759e-03,  1.40124860e-01,  9.24284698e-01,\n",
              "         -2.57206172e-01,  1.47546782e-02, -7.56725011e-02,\n",
              "          3.04881858e-03, -2.32277845e-01],\n",
              "        [-9.55611704e-04, -6.18201680e-02,  3.02733608e-01,\n",
              "          8.84979920e-01,  5.84229399e-02, -2.20589633e-01,\n",
              "          7.68416830e-03,  2.63074485e-01],\n",
              "        [ 1.32749325e-03, -9.03835775e-02, -1.96817678e-02,\n",
              "         -6.40536869e-02,  9.91127769e-01,  6.21506650e-03,\n",
              "          7.04692392e-02, -6.39227745e-05],\n",
              "        [-3.12490550e-03,  4.56858800e-02,  1.31511878e-01,\n",
              "          1.92835112e-01,  1.29792435e-02,  9.70962514e-01,\n",
              "          2.50182938e-03,  2.18942173e-02],\n",
              "        [ 2.83719740e-04, -6.70386457e-03, -2.29309618e-03,\n",
              "         -3.46124420e-03, -7.17935837e-02, -2.79747154e-04,\n",
              "          9.97388004e-01, -7.15570678e-04],\n",
              "        [-1.62646150e-01,  1.40176400e-01,  1.26637622e-01,\n",
              "         -3.03025428e-01, -4.14635276e-03,  1.52263494e-02,\n",
              "          5.93631499e-04,  9.19666202e-01]]),\n",
              " 16)"
            ]
          },
          "metadata": {
            "tags": []
          },
          "execution_count": 38
        }
      ]
    },
    {
      "cell_type": "code",
      "metadata": {
        "id": "9jKZlMZ0uIME",
        "colab_type": "code",
        "colab": {}
      },
      "source": [
        ""
      ],
      "execution_count": 0,
      "outputs": []
    }
  ]
}